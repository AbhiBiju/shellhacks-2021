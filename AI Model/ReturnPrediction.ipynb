{
 "cells": [
  {
   "cell_type": "code",
   "execution_count": 1,
   "metadata": {},
   "outputs": [
    {
     "name": "stdout",
     "output_type": "stream",
     "text": [
      "Requirement already satisfied: pipenv in c:\\users\\nikhi\\anaconda3\\lib\\site-packages (2021.5.29)\n",
      "Requirement already satisfied: pip>=18.0 in c:\\users\\nikhi\\anaconda3\\lib\\site-packages (from pipenv) (21.1.3)\n",
      "Requirement already satisfied: virtualenv in c:\\users\\nikhi\\anaconda3\\lib\\site-packages (from pipenv) (20.8.1)\n",
      "Requirement already satisfied: setuptools>=36.2.1 in c:\\users\\nikhi\\anaconda3\\lib\\site-packages (from pipenv) (57.0.0)\n",
      "Requirement already satisfied: certifi in c:\\users\\nikhi\\anaconda3\\lib\\site-packages (from pipenv) (2020.6.20)\n",
      "Requirement already satisfied: virtualenv-clone>=0.2.5 in c:\\users\\nikhi\\anaconda3\\lib\\site-packages (from pipenv) (0.5.7)\n",
      "Requirement already satisfied: distlib<1,>=0.3.1 in c:\\users\\nikhi\\anaconda3\\lib\\site-packages (from virtualenv->pipenv) (0.3.3)\n",
      "Requirement already satisfied: six<2,>=1.9.0 in c:\\users\\nikhi\\appdata\\roaming\\python\\python38\\site-packages (from virtualenv->pipenv) (1.15.0)\n",
      "Requirement already satisfied: platformdirs<3,>=2 in c:\\users\\nikhi\\anaconda3\\lib\\site-packages (from virtualenv->pipenv) (2.3.0)\n",
      "Requirement already satisfied: filelock<4,>=3.0.0 in c:\\users\\nikhi\\anaconda3\\lib\\site-packages (from virtualenv->pipenv) (3.0.12)\n",
      "Requirement already satisfied: backports.entry-points-selectable>=1.0.4 in c:\\users\\nikhi\\anaconda3\\lib\\site-packages (from virtualenv->pipenv) (1.1.0)\n"
     ]
    },
    {
     "name": "stderr",
     "output_type": "stream",
     "text": [
      "WARNING: You are using pip version 21.1.3; however, version 21.2.4 is available.\n",
      "You should consider upgrading via the 'c:\\users\\nikhi\\anaconda3\\python.exe -m pip install --upgrade pip' command.\n"
     ]
    }
   ],
   "source": [
    "!pip install pipenv"
   ]
  },
  {
   "cell_type": "code",
   "execution_count": 2,
   "metadata": {},
   "outputs": [
    {
     "name": "stdout",
     "output_type": "stream",
     "text": [
      "Requirement already satisfied: pandas_datareader in c:\\users\\nikhi\\anaconda3\\lib\\site-packages (0.10.0)\n",
      "Requirement already satisfied: requests>=2.19.0 in c:\\users\\nikhi\\anaconda3\\lib\\site-packages (from pandas_datareader) (2.24.0)\n",
      "Requirement already satisfied: lxml in c:\\users\\nikhi\\anaconda3\\lib\\site-packages (from pandas_datareader) (4.5.2)\n",
      "Requirement already satisfied: pandas>=0.23 in c:\\users\\nikhi\\anaconda3\\lib\\site-packages (from pandas_datareader) (1.0.5)\n",
      "Requirement already satisfied: pytz>=2017.2 in c:\\users\\nikhi\\anaconda3\\lib\\site-packages (from pandas>=0.23->pandas_datareader) (2020.1)\n",
      "Requirement already satisfied: python-dateutil>=2.6.1 in c:\\users\\nikhi\\anaconda3\\lib\\site-packages (from pandas>=0.23->pandas_datareader) (2.8.1)\n",
      "Requirement already satisfied: numpy>=1.13.3 in c:\\users\\nikhi\\anaconda3\\lib\\site-packages (from pandas>=0.23->pandas_datareader) (1.18.5)\n",
      "Requirement already satisfied: six>=1.5 in c:\\users\\nikhi\\appdata\\roaming\\python\\python38\\site-packages (from python-dateutil>=2.6.1->pandas>=0.23->pandas_datareader) (1.15.0)\n",
      "Requirement already satisfied: chardet<4,>=3.0.2 in c:\\users\\nikhi\\anaconda3\\lib\\site-packages (from requests>=2.19.0->pandas_datareader) (3.0.4)\n",
      "Requirement already satisfied: urllib3!=1.25.0,!=1.25.1,<1.26,>=1.21.1 in c:\\users\\nikhi\\anaconda3\\lib\\site-packages (from requests>=2.19.0->pandas_datareader) (1.25.9)\n",
      "Requirement already satisfied: idna<3,>=2.5 in c:\\users\\nikhi\\anaconda3\\lib\\site-packages (from requests>=2.19.0->pandas_datareader) (2.10)\n",
      "Requirement already satisfied: certifi>=2017.4.17 in c:\\users\\nikhi\\anaconda3\\lib\\site-packages (from requests>=2.19.0->pandas_datareader) (2020.6.20)\n"
     ]
    },
    {
     "name": "stderr",
     "output_type": "stream",
     "text": [
      "WARNING: You are using pip version 21.1.3; however, version 21.2.4 is available.\n",
      "You should consider upgrading via the 'c:\\users\\nikhi\\anaconda3\\python.exe -m pip install --upgrade pip' command.\n"
     ]
    }
   ],
   "source": [
    "!pip install pandas_datareader"
   ]
  },
  {
   "cell_type": "code",
   "execution_count": 13,
   "metadata": {},
   "outputs": [],
   "source": [
    "from IPython.core.debugger import set_trace\n",
    "from sklearn.model_selection import train_test_split\n",
    "import pandas as pd\n",
    "import pandas_datareader as web\n",
    "import numpy as np\n",
    "import os\n",
    "import matplotlib.pyplot as plt\n",
    "import time\n",
    "import xgboost as xgb\n",
    "%matplotlib inline"
   ]
  },
  {
   "cell_type": "code",
   "execution_count": 14,
   "metadata": {},
   "outputs": [],
   "source": [
    "def predict(companyName):\n",
    "    #df and df0 contains the dataset of the stock.\n",
    "    df = web.DataReader(companyName, data_source = 'yahoo', start = '2020-09-25', end = '2021-09-25')\n",
    "    df0 = web.DataReader('AAPL', data_source = 'yahoo', start = '2020-09-25', end = '2021-09-25')\n",
    "    \n",
    "    df[\"target\"] = df.Close.shift(-1)\n",
    "    \n",
    "    df.dropna(inplace = True)\n",
    "    #The target: Consists of the day after's closed stock price \n",
    "    target = df[\"target\"]\n",
    "    target = target.append(df0[\"Close\"].tail(1))\n",
    "    #Here the data is being split into testing and training sets. 80% of the data used for training and 20% of the data is\n",
    "    #used for testing \n",
    "    X_train, X_test, y_train, y_test = train_test_split(df0, target, test_size = 0.2, random_state = 0)\n",
    "    X_test = X_test.append(df0.tail(1))\n",
    "    y_test = y_test.append(target.tail(1))\n",
    "    \n",
    "    train = xgb.DMatrix(X_train, label = y_train)\n",
    "    test = xgb.DMatrix(X_test, label = y_test)\n",
    "    \n",
    "    param = {\n",
    "    'max_depth': 4,\n",
    "    'eta': 0.3,\n",
    "    'objective': 'reg:squarederror',\n",
    "    'num_class': 1\n",
    "    }\n",
    "    epochs = 20\n",
    "    \n",
    "    model = xgb.train(param, train, epochs)\n",
    "    \n",
    "    predictions = model.predict(test)\n",
    "    #Tommorow's prediction\n",
    "    print(predictions[len(predictions) - 1])"
   ]
  },
  {
   "cell_type": "code",
   "execution_count": 15,
   "metadata": {},
   "outputs": [
    {
     "name": "stdout",
     "output_type": "stream",
     "text": [
      "147.41919\n"
     ]
    }
   ],
   "source": [
    "#Here you can enter the NASDAQ ticker symbol of your chosen company\n",
    "predict('AAPL')"
   ]
  }
 ],
 "metadata": {
  "kernelspec": {
   "display_name": "Python 3",
   "language": "python",
   "name": "python3"
  },
  "language_info": {
   "codemirror_mode": {
    "name": "ipython",
    "version": 3
   },
   "file_extension": ".py",
   "mimetype": "text/x-python",
   "name": "python",
   "nbconvert_exporter": "python",
   "pygments_lexer": "ipython3",
   "version": "3.8.3"
  }
 },
 "nbformat": 4,
 "nbformat_minor": 4
}
