{
 "cells": [
  {
   "cell_type": "code",
   "execution_count": 90,
   "id": "e0dacb2a",
   "metadata": {},
   "outputs": [
    {
     "name": "stderr",
     "output_type": "stream",
     "text": [
      "Enabling notebook extension jupyter-js-widgets/extension...\n",
      "      - Validating: ok\n"
     ]
    }
   ],
   "source": [
    "#If you haven't run the following commands in comments before, run them by removing the # \n",
    "#jupyter nbextension enable --py widgetsnbextension --sys-prefix"
   ]
  },
  {
   "cell_type": "code",
   "execution_count": 91,
   "id": "f05b3ff5",
   "metadata": {},
   "outputs": [
    {
     "name": "stderr",
     "output_type": "stream",
     "text": [
      "Enabling: voila\n",
      "- Writing config: C:\\Users\\nikhi\\anaconda3\\envs\\webapp-venv\\etc\\jupyter\n",
      "    - Validating...\n",
      "      voila 0.2.15 ok\n"
     ]
    }
   ],
   "source": [
    "#jupyter serverextension enable voila --sys-prefix"
   ]
  },
  {
   "cell_type": "code",
   "execution_count": 32,
   "id": "54384f56",
   "metadata": {},
   "outputs": [],
   "source": [
    "#!pip install scikit-learn"
   ]
  },
  {
   "cell_type": "code",
   "execution_count": 33,
   "id": "a0c8503c",
   "metadata": {},
   "outputs": [],
   "source": [
    "#!pip install pandas"
   ]
  },
  {
   "cell_type": "code",
   "execution_count": 34,
   "id": "a02b7e5b",
   "metadata": {},
   "outputs": [],
   "source": [
    "#!pip install pipenv"
   ]
  },
  {
   "cell_type": "code",
   "execution_count": 35,
   "id": "6920732c",
   "metadata": {},
   "outputs": [],
   "source": [
    "#!pip install pandas_datareader"
   ]
  },
  {
   "cell_type": "code",
   "execution_count": 36,
   "id": "d16e0b47",
   "metadata": {},
   "outputs": [],
   "source": [
    "#!pip install matplotlib"
   ]
  },
  {
   "cell_type": "code",
   "execution_count": 37,
   "id": "ac83dcc0",
   "metadata": {},
   "outputs": [],
   "source": [
    "#!pip install xgboost"
   ]
  },
  {
   "cell_type": "code",
   "execution_count": 1,
   "id": "e7192e3a",
   "metadata": {},
   "outputs": [],
   "source": [
    "from IPython.core.debugger import set_trace\n",
    "from sklearn.model_selection import train_test_split\n",
    "import pandas as pd\n",
    "import pandas_datareader as web\n",
    "import numpy as np\n",
    "import os\n",
    "import matplotlib.pyplot as plt\n",
    "import time\n",
    "import xgboost as xgb\n",
    "%matplotlib inline"
   ]
  },
  {
   "cell_type": "code",
   "execution_count": 2,
   "id": "225d51e8",
   "metadata": {},
   "outputs": [],
   "source": [
    "import warnings\n",
    "import ipywidgets as widgets\n",
    "from IPython.display import display, clear_output\n",
    "\n",
    "\n",
    "\n",
    "\n",
    "warnings.filterwarnings('ignore')"
   ]
  },
  {
   "cell_type": "code",
   "execution_count": 3,
   "id": "4d316792",
   "metadata": {},
   "outputs": [],
   "source": [
    "file = open(\"image.jpg\", \"rb\")\n",
    "image = file.read()\n",
    "image_headline = widgets.Image(\n",
    "    value = image,\n",
    "    format = 'jpg',\n",
    "    width = '300'\n",
    ")\n",
    "label_headline = widgets.Label(\n",
    "    value = 'Photo from kiplinger.com',\n",
    "    style = {'description_width': 'initial'}\n",
    ")\n",
    "vbox_headline = widgets.VBox([image_headline, label_headline])"
   ]
  },
  {
   "cell_type": "code",
   "execution_count": 4,
   "id": "6fc87645",
   "metadata": {},
   "outputs": [],
   "source": [
    "companyName = widgets.Text(placeholder = 'Enter the NASDAQ ticker symbol of the company you want to analyse')"
   ]
  },
  {
   "cell_type": "code",
   "execution_count": 5,
   "id": "b384e297",
   "metadata": {},
   "outputs": [],
   "source": [
    "date1 = widgets.DatePicker(description = 'From date')\n",
    "date2 = widgets.DatePicker(description = 'To date')"
   ]
  },
  {
   "cell_type": "code",
   "execution_count": 6,
   "id": "271bedfc",
   "metadata": {},
   "outputs": [],
   "source": [
    "button_send = widgets.Button(\n",
    "    description = 'ANALYSE',\n",
    "    tooltip = 'Send',\n",
    "    style = {'description_width': 'initial'}\n",
    ")\n",
    "output = widgets.Output()"
   ]
  },
  {
   "cell_type": "code",
   "execution_count": 7,
   "id": "46a69293",
   "metadata": {},
   "outputs": [],
   "source": [
    "def actualData(y_test):\n",
    "    arr = pd.DataFrame(y_test).to_numpy()\n",
    "    plt.figure(figsize = (16, 8))\n",
    "    plt.title('Actual Data')\n",
    "    plt.xlabel('Time', fontsize = 18)\n",
    "    plt.ylabel('Close Price USD ($)', fontsize = 18)\n",
    "    plt.plot(arr)\n",
    "    plt.show()"
   ]
  },
  {
   "cell_type": "code",
   "execution_count": 8,
   "id": "acdad7f9",
   "metadata": {},
   "outputs": [],
   "source": [
    "def plotPredictedData(y_test, predictions):\n",
    "    arr = pd.DataFrame(y_test).to_numpy()\n",
    "    plt.figure(figsize = (16, 8))\n",
    "    plt.title('Predicted Data depicted in Orange Color')\n",
    "    plt.xlabel('Time', fontsize = 18)\n",
    "    plt.ylabel('Close Price USD ($)', fontsize = 18)\n",
    "    plt.plot(arr)\n",
    "    plt.plot(predictions)\n",
    "    plt.show()"
   ]
  },
  {
   "cell_type": "code",
   "execution_count": 9,
   "id": "b1389fbf",
   "metadata": {},
   "outputs": [],
   "source": [
    "def predict(companyName, date1, date2):\n",
    "    #df and df0 contains the dataset of the stock.\n",
    "    df = web.DataReader(companyName, data_source = 'yahoo', start = date1, end = date2)\n",
    "    df0 = web.DataReader('AAPL', data_source = 'yahoo', start = date1, end = date2)\n",
    "    \n",
    "    df[\"target\"] = df.Close.shift(-1)\n",
    "    \n",
    "    df.dropna(inplace = True)\n",
    "    #The target: Consists of the day after's closed stock price \n",
    "    target = df[\"target\"]\n",
    "    target = target.append(df0[\"Close\"].tail(1))\n",
    "    #Here the data is being split into testing and training sets. 80% of the data used for training and 20% of the data is\n",
    "    #used for testing \n",
    "    X_train, X_test, y_train, y_test = train_test_split(df0, target, test_size = 0.2, random_state = 0)\n",
    "    X_test = X_test.append(df0.tail(1))\n",
    "    y_test = y_test.append(target.tail(1))\n",
    "    \n",
    "    train = xgb.DMatrix(X_train, label = y_train)\n",
    "    test = xgb.DMatrix(X_test, label = y_test)\n",
    "    \n",
    "    param = {\n",
    "    'max_depth': 4,\n",
    "    'eta': 0.3,\n",
    "    'objective': 'reg:squarederror',\n",
    "    'num_class': 1\n",
    "    }\n",
    "    epochs = 20\n",
    "    \n",
    "    model = xgb.train(param, train, epochs)\n",
    "    \n",
    "    predictions = model.predict(test)\n",
    "    #Tommorow's prediction\n",
    "    print(predictions[len(predictions) - 1])"
   ]
  },
  {
   "cell_type": "code",
   "execution_count": 10,
   "id": "96fe8350",
   "metadata": {},
   "outputs": [],
   "source": [
    "def plotGraphs(companyName, date1, date2):\n",
    "    #df and df0 contains the dataset of the stock.\n",
    "    df = web.DataReader(companyName, data_source = 'yahoo', start = date1, end = date2)\n",
    "    \n",
    "    df[\"target\"] = df.Close.shift(-1)\n",
    "    \n",
    "    df.dropna(inplace = True)\n",
    "    #The target: Consists of the day after's closed stock price\n",
    "    target = df[\"target\"]\n",
    "    df.drop([\"target\"], axis = 1, inplace = True)\n",
    "    #Here the data is being split into testing and training sets. 80% of the data used for training and 20% of the data is\n",
    "    #used for testing\n",
    "    X_train, X_test, y_train, y_test = train_test_split(df, target, test_size = 0.2, random_state = 0)\n",
    "    \n",
    "    train = xgb.DMatrix(X_train, label = y_train)\n",
    "    test = xgb.DMatrix(X_test, label = y_test)\n",
    "    \n",
    "    param = {\n",
    "    'max_depth': 4,\n",
    "    'eta': 0.3,\n",
    "    'objective': 'reg:squarederror',\n",
    "    'num_class': 1\n",
    "    }\n",
    "    epochs = 20\n",
    "    \n",
    "    model = xgb.train(param, train, epochs)\n",
    "    \n",
    "    predictions = model.predict(test)\n",
    "    #Plotting Data\n",
    "    actualData(y_test)\n",
    "    plotPredictedData(y_test, predictions)"
   ]
  },
  {
   "cell_type": "code",
   "execution_count": 11,
   "id": "f1302694",
   "metadata": {},
   "outputs": [],
   "source": [
    "def on_button_clicked(event):\n",
    "    with output:\n",
    "        clear_output()\n",
    "        print(\"Prediction for tommorow: \")\n",
    "        predict(companyName.value, date1.value, date2.value)\n",
    "        plotGraphs(companyName.value, date1.value, date2.value)\n",
    "\n",
    "        \n",
    "button_send.on_click(on_button_clicked)\n",
    "vbox_result = widgets.VBox([button_send, output])"
   ]
  },
  {
   "cell_type": "code",
   "execution_count": 12,
   "id": "42b3227e",
   "metadata": {},
   "outputs": [],
   "source": [
    "text_0 = widgets.HTML(value = \"<h1>AI Stock Market Analyst</h1>\")\n",
    "text_1 = widgets.HTML(value = \"<h2>First enter the NASDAQ ticker symbol of the company you want to analyse.</h2>\")\n",
    "text_2 = widgets.HTML(value = \"<h2>Enter the timeframe of data fed into the machine learning algorithm.</h2>\")\n",
    "text_3 = widgets.HTML(value = \"<h3>The prediction for tommorow is the day after the to date.</h3>\")\n",
    "vbox_text = widgets.VBox([text_0, text_1, companyName, text_2, text_3, date1, date2, vbox_result])"
   ]
  },
  {
   "cell_type": "code",
   "execution_count": 13,
   "id": "dac7d225",
   "metadata": {},
   "outputs": [
    {
     "data": {
      "application/vnd.jupyter.widget-view+json": {
       "model_id": "d26ba495022e407eb175b22a63edcb1e",
       "version_major": 2,
       "version_minor": 0
      },
      "text/plain": [
       "HBox(children=(VBox(children=(Image(value=b'\\xff\\xd8\\xff\\xe1\\x1a\\xb5Exif\\x00\\x00MM\\x00*\\x00\\x00\\x00\\x08\\x00\\x0…"
      ]
     },
     "metadata": {},
     "output_type": "display_data"
    }
   ],
   "source": [
    "page = widgets.HBox([vbox_headline, vbox_text])\n",
    "display(page)"
   ]
  },
  {
   "cell_type": "code",
   "execution_count": 14,
   "id": "747b6c82",
   "metadata": {},
   "outputs": [],
   "source": [
    "!pip freeze > requirements.txt"
   ]
  },
  {
   "cell_type": "code",
   "execution_count": null,
   "id": "aae18a2e",
   "metadata": {},
   "outputs": [],
   "source": []
  }
 ],
 "metadata": {
  "kernelspec": {
   "display_name": "Python 3 (ipykernel)",
   "language": "python",
   "name": "python3"
  },
  "language_info": {
   "codemirror_mode": {
    "name": "ipython",
    "version": 3
   },
   "file_extension": ".py",
   "mimetype": "text/x-python",
   "name": "python",
   "nbconvert_exporter": "python",
   "pygments_lexer": "ipython3",
   "version": "3.8.11"
  }
 },
 "nbformat": 4,
 "nbformat_minor": 5
}
